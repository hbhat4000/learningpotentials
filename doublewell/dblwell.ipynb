{
 "cells": [
  {
   "cell_type": "code",
   "execution_count": 1,
   "metadata": {},
   "outputs": [],
   "source": [
    "import numpy as np\n",
    "import tensorflow as tf"
   ]
  },
  {
   "cell_type": "code",
   "execution_count": 2,
   "metadata": {},
   "outputs": [],
   "source": [
    "# amazingly, this fixes plotting on Harish's Mac!\n",
    "import os\n",
    "os.environ['KMP_DUPLICATE_LIB_OK']='True'"
   ]
  },
  {
   "cell_type": "code",
   "execution_count": 3,
   "metadata": {},
   "outputs": [],
   "source": [
    "# this function seeks to ensure reproducibility\n",
    "def reset_graph(seed=42):\n",
    "    tf.reset_default_graph()\n",
    "    tf.set_random_seed(seed)\n",
    "    np.random.seed(seed)"
   ]
  },
  {
   "cell_type": "code",
   "execution_count": 4,
   "metadata": {},
   "outputs": [
    {
     "name": "stdout",
     "output_type": "stream",
     "text": [
      "(5001, 10, 1)\n",
      "(5001, 10, 1)\n"
     ]
    }
   ],
   "source": [
    "traj = np.loadtxt('mydw.csv',delimiter=',')\n",
    "traj = np.transpose(np.reshape(traj,(10,10001,2)),[1,0,2])\n",
    "qdat = traj[:5001,:,[0]]\n",
    "pdat = traj[:5001,:,[1]]\n",
    "n_steps, n_instances, d = qdat.shape\n",
    "dt = 0.001\n",
    "print(qdat.shape)\n",
    "print(pdat.shape)"
   ]
  },
  {
   "cell_type": "code",
   "execution_count": 5,
   "metadata": {},
   "outputs": [
    {
     "data": {
      "text/plain": [
       "<Figure size 640x480 with 1 Axes>"
      ]
     },
     "metadata": {},
     "output_type": "display_data"
    }
   ],
   "source": [
    "import matplotlib.pyplot as plt\n",
    "plt.plot(qdat[:,0,0])\n",
    "plt.show()"
   ]
  },
  {
   "cell_type": "code",
   "execution_count": 6,
   "metadata": {},
   "outputs": [],
   "source": [
    "def tf_diff_axis_0(a):\n",
    "    return a[1:]-a[:-1]"
   ]
  },
  {
   "cell_type": "code",
   "execution_count": 7,
   "metadata": {},
   "outputs": [],
   "source": [
    "# # assume data is in the form: n_steps x n_instances x d\n",
    "# qdat = np.array([[[0.3, -0.5, 1.0, 7.0],[3.7,-0.4,-0.15, -7.0]], \n",
    "#                  [[-7.0,3.14,2.5, 8.0],[3.7,-0.4,-0.15, -7.0]], \n",
    "#                  [[2.0,6.14,9.5,9.0],[3.7,-0.4,-0.15, -7.0]]])\n",
    "# pdat = np.random.normal(size=qdat.shape)\n",
    "# print(qdat.shape)\n",
    "# n_steps, n_instances, d = qdat.shape"
   ]
  },
  {
   "cell_type": "code",
   "execution_count": 8,
   "metadata": {},
   "outputs": [
    {
     "name": "stdout",
     "output_type": "stream",
     "text": [
      "WARNING:tensorflow:From <ipython-input-8-a95688719390>:11: flatten (from tensorflow.python.layers.core) is deprecated and will be removed in a future version.\n",
      "Instructions for updating:\n",
      "Use keras.layers.flatten instead.\n"
     ]
    }
   ],
   "source": [
    "# set up a neural network model for a potential function V : R^d --> R\n",
    "reset_graph()\n",
    "\n",
    "# here we take both q and p to be n_steps x n_instances x d\n",
    "qts = tf.placeholder(tf.float32, shape=(None, n_instances, d), name=\"qts\")\n",
    "pts = tf.placeholder(tf.float32, shape=(None, n_instances, d), name=\"pts\")\n",
    "\n",
    "# flatten in such a way that we get a two-dimensional matrix consisting of blocks\n",
    "# each block consists of one instance of dimension n_steps x d\n",
    "# the number of such blocks is n_instances\n",
    "q = tf.transpose(tf.layers.flatten(tf.transpose(qts, perm=[2, 1, 0])),perm=[1, 0])\n",
    "\n",
    "# keep track of outputs of each layer\n",
    "output = []\n",
    "\n",
    "# put the inputs in output[0]\n",
    "output.append(q)\n",
    "\n",
    "# here is a little Python magic that enables us to define a new function\n",
    "# called \"my_dense_layer\" which is the same as the TF function tf.layers.dense\n",
    "# except that we have preset activation=selu\n",
    "# ...in short, we have partially evaluated tf.layers.dense...\n",
    "from functools import partial\n",
    "my_dense_layer = partial(tf.layers.dense,activation=tf.nn.tanh)"
   ]
  },
  {
   "cell_type": "code",
   "execution_count": 9,
   "metadata": {},
   "outputs": [
    {
     "name": "stdout",
     "output_type": "stream",
     "text": [
      "WARNING:tensorflow:From <ipython-input-9-ef0844ea91b0>:17: dense (from tensorflow.python.layers.core) is deprecated and will be removed in a future version.\n",
      "Instructions for updating:\n",
      "Use keras.layers.dense instead.\n",
      "WARNING:tensorflow:From /Users/hbhat/anaconda3/lib/python3.7/site-packages/tensorflow/python/framework/op_def_library.py:263: colocate_with (from tensorflow.python.framework.ops) is deprecated and will be removed in a future version.\n",
      "Instructions for updating:\n",
      "Colocations handled automatically by placer.\n"
     ]
    }
   ],
   "source": [
    "depth = 2\n",
    "numneurons = [16, 16]\n",
    "\n",
    "# here is where we define our deep neural network\n",
    "with tf.name_scope(\"dnn\"):\n",
    "    \n",
    "    # we iteratively create hidden layers\n",
    "    for j in range(depth):\n",
    "        thisname = \"hidden\" + str(j)\n",
    "        \n",
    "        # the input to hidden layer j is outputs[j]\n",
    "        # the output of hidden layer j is stored in outputs[j+1]\n",
    "        # this function handles the creation of all weight and bias variables,\n",
    "        # for each hidden layer!\n",
    "        output.append(my_dense_layer(output[j], \n",
    "                                     units=numneurons[j],\n",
    "                                     name=thisname))\n",
    "\n",
    "    # to get from the high-dimensional output of the final hidden layer\n",
    "    # to a scalar output, we use this function, which basically uses \n",
    "    # a linear transformation of the form \"w^T h + b\"\n",
    "    # --> h is the vector of outputs from the last hidden layer\n",
    "    # --> w is a weight vector of the same dimension as h\n",
    "    # --> b is a scalar\n",
    "    Vpredraw = tf.layers.dense(output[depth], units=1, name='output')\n",
    "    Vpred = tf.reshape(Vpredraw, shape=[n_instances, n_steps])"
   ]
  },
  {
   "cell_type": "code",
   "execution_count": 10,
   "metadata": {},
   "outputs": [
    {
     "name": "stdout",
     "output_type": "stream",
     "text": [
      "WARNING:tensorflow:From /Users/hbhat/anaconda3/lib/python3.7/site-packages/tensorflow/python/ops/array_grad.py:425: to_int32 (from tensorflow.python.ops.math_ops) is deprecated and will be removed in a future version.\n",
      "Instructions for updating:\n",
      "Use tf.cast instead.\n"
     ]
    }
   ],
   "source": [
    "# automatically differentiate potential and generate gradV : R^d --> R^d\n",
    "from tensorflow.python.ops.parallel_for.gradients import jacobian, batch_jacobian\n",
    "gradVpredraw = batch_jacobian(Vpredraw, q)\n",
    "gradVpred = tf.reshape(gradVpredraw, shape=[n_instances, n_steps, d])"
   ]
  },
  {
   "cell_type": "code",
   "execution_count": 11,
   "metadata": {},
   "outputs": [],
   "source": [
    "# compute loss and set up optimizer\n",
    "pdot = tf_diff_axis_0(pts)/dt\n",
    "loss = tf.reduce_mean( tf.square( pdot + tf.transpose(gradVpred[:,:-1], perm=[1,0,2]) ) )\n",
    "optimizer = tf.train.GradientDescentOptimizer(learning_rate=0.01)\n",
    "training_op = optimizer.minimize(loss)\n"
   ]
  },
  {
   "cell_type": "code",
   "execution_count": 12,
   "metadata": {},
   "outputs": [],
   "source": [
    "# typical TF initialization\n",
    "init = tf.global_variables_initializer()\n",
    "\n",
    "# we set up TF to save its progress to disk\n",
    "saver = tf.train.Saver()"
   ]
  },
  {
   "cell_type": "code",
   "execution_count": 59,
   "metadata": {},
   "outputs": [
    {
     "name": "stdout",
     "output_type": "stream",
     "text": [
      "0 Loss: 5.8481617\n",
      "1000 Loss: 0.7608121\n",
      "2000 Loss: 0.67685944\n",
      "3000 Loss: 0.328189\n",
      "4000 Loss: 0.04099216\n",
      "5000 Loss: 0.0074210516\n",
      "6000 Loss: 0.004725165\n",
      "7000 Loss: 0.0035848028\n",
      "8000 Loss: 0.002854977\n",
      "9000 Loss: 0.0023174465\n",
      "10000 Loss: 0.001897996\n",
      "11000 Loss: 0.0015615459\n",
      "12000 Loss: 0.001288049\n",
      "13000 Loss: 0.0010644735\n",
      "14000 Loss: 0.00088155793\n",
      "15000 Loss: 0.00073226914\n",
      "16000 Loss: 0.0006109501\n",
      "17000 Loss: 0.00051291543\n",
      "18000 Loss: 0.00043411678\n",
      "19000 Loss: 0.00037107812\n",
      "20000 Loss: 0.00032076988\n",
      "21000 Loss: 0.00028065508\n",
      "22000 Loss: 0.00024861973\n",
      "23000 Loss: 0.00022291874\n",
      "24000 Loss: 0.00020217823\n",
      "25000 Loss: 0.00018529748\n",
      "26000 Loss: 0.00017141235\n",
      "27000 Loss: 0.00015985915\n",
      "28000 Loss: 0.00015015127\n",
      "29000 Loss: 0.00014188226\n",
      "30000 Loss: 0.00013476353\n",
      "31000 Loss: 0.00012856894\n",
      "32000 Loss: 0.0001231242\n",
      "33000 Loss: 0.00011828822\n",
      "34000 Loss: 0.000113964175\n",
      "35000 Loss: 0.000110057124\n",
      "36000 Loss: 0.000106498825\n",
      "37000 Loss: 0.00010326296\n",
      "38000 Loss: 0.000100275094\n",
      "39000 Loss: 9.755651e-05\n",
      "40000 Loss: 9.504568e-05\n",
      "41000 Loss: 9.271275e-05\n",
      "42000 Loss: 9.053209e-05\n",
      "43000 Loss: 8.84896e-05\n",
      "44000 Loss: 8.658444e-05\n",
      "45000 Loss: 8.478577e-05\n",
      "46000 Loss: 8.307942e-05\n",
      "47000 Loss: 8.1471284e-05\n",
      "48000 Loss: 7.995474e-05\n",
      "49000 Loss: 7.851085e-05\n"
     ]
    }
   ],
   "source": [
    "with tf.Session() as sess:\n",
    "    init.run()\n",
    "    maxsteps = 50000\n",
    "    for i in range(maxsteps):\n",
    "        # we run the \"training_op\" defined above, corresponding to one optimization step\n",
    "        # note that we must feed in xx and yy for the placeholders X and y\n",
    "        sess.run(training_op, feed_dict={qts : qdat, pts : pdat})\n",
    "        # periodically tell us what is happening to the loss function\n",
    "        if (i % 1000) == 0:\n",
    "            # note this is another way to grab the value of the loss function\n",
    "            # we still have to feed in xx and yy for the placeholders X and y\n",
    "            print(i, \"Loss:\", loss.eval(feed_dict={qts : qdat, pts : pdat}))\n",
    "    # save final trained TF model to disk\n",
    "    save_path = saver.save(sess, \"./dblwell_model_final.ckpt\")\n"
   ]
  },
  {
   "cell_type": "code",
   "execution_count": 13,
   "metadata": {},
   "outputs": [],
   "source": [
    "import matplotlib.pylab as pylab\n",
    "params = {'legend.fontsize': 'x-large',\n",
    "          'figure.figsize': (15, 5),\n",
    "         'axes.labelsize': 'x-large',\n",
    "         'axes.titlesize':'x-large',\n",
    "         'xtick.labelsize':'x-large',\n",
    "         'ytick.labelsize':'x-large'}\n",
    "pylab.rcParams.update(params)\n"
   ]
  },
  {
   "cell_type": "code",
   "execution_count": 21,
   "metadata": {},
   "outputs": [
    {
     "name": "stdout",
     "output_type": "stream",
     "text": [
      "INFO:tensorflow:Restoring parameters from ./dblwell_model_final.ckpt\n",
      "(5001, 10, 1)\n",
      "INFO:tensorflow:Restoring parameters from ./dblwell_model_final.ckpt\n"
     ]
    },
    {
     "data": {
      "image/png": "[encoded data removed]",
      "text/plain": [
       "<Figure size 720x432 with 1 Axes>"
      ]
     },
     "metadata": {
      "needs_background": "light"
     },
     "output_type": "display_data"
    }
   ],
   "source": [
    "# here we grab the final model from disk and extract three things:\n",
    "# the true values of x, the true values of y, and the predicted values of y\n",
    "# n = 10\n",
    "\n",
    "with tf.Session() as sess:\n",
    "    saver.restore(sess, \"./dblwell_model_final.ckpt\")\n",
    "    # xp = np.reshape(np.linspace(-4.0,4.0,n),[1,n,1])\n",
    "    Vplot = sess.run(Vpred, feed_dict = {qts : qdat})\n",
    "\n",
    "qdatpts = np.reshape(np.transpose(qdat,(1,0,2)),[50010])\n",
    "Vplotpts = np.reshape(Vplot,[50010])\n",
    "plt.figure(figsize=(10,6)) \n",
    "plt.plot(qdatpts,Vplotpts - np.min(Vplotpts),'r.',ms=2.5, label='neural (train)')\n",
    "np.savetxt(fname='dblwellV.csv', X=Vplotpts, delimiter=',')\n",
    "np.savetxt(fname='dblwellr.csv', X=qdatpts, delimiter=',')\n",
    "\n",
    "qdatptsEXTRAP = np.hstack([np.linspace(-1,np.min(qdatpts),2500),np.linspace(np.max(qdatpts),3,2501)])\n",
    "qdatEXTRAP = np.expand_dims(qdatptsEXTRAP,axis=1)\n",
    "qdatEXTRAP = np.stack([qdatEXTRAP, qdatEXTRAP,qdatEXTRAP, qdatEXTRAP, qdatEXTRAP, qdatEXTRAP, qdatEXTRAP, qdatEXTRAP, qdatEXTRAP, qdatEXTRAP],axis=1)\n",
    "print(qdatEXTRAP.shape)\n",
    "with tf.Session() as sess:\n",
    "    saver.restore(sess, \"./dblwell_model_final.ckpt\")\n",
    "    # xp = np.reshape(np.linspace(-4.0,4.0,n),[1,n,1])\n",
    "    VplotEXTRAP = sess.run(Vpred, feed_dict = {qts : qdatEXTRAP})\n",
    "\n",
    "qdatptsEXTRAP = np.reshape(np.transpose(qdatEXTRAP,(1,0,2)),[50010])\n",
    "VplotptsEXTRAP = np.reshape(VplotEXTRAP,[50010])\n",
    "plt.plot(qdatptsEXTRAP,VplotptsEXTRAP - np.min(Vplotpts),'g.',ms=2.5, label='neural (extrap)')\n",
    "\n",
    "\n",
    "x = np.linspace(-1,3,1000)\n",
    "trueV = x*x*(x-2)*(x-2) - (x-1)**2\n",
    "plt.plot(x,trueV - np.min(trueV),'k-',lw=1.5, label='truth')\n",
    "plt.legend(markerscale=5,loc=9)\n",
    "plt.xlabel('q')\n",
    "plt.ylabel('V')\n",
    "plt.savefig('dblwell.pdf')\n",
    "plt.show()"
   ]
  },
  {
   "cell_type": "code",
   "execution_count": 26,
   "metadata": {},
   "outputs": [
    {
     "name": "stdout",
     "output_type": "stream",
     "text": [
      "Tensor(\"hidden0/kernel:0\", shape=(4, 4), dtype=float32_ref)\n",
      "Tensor(\"hidden1/kernel:0\", shape=(4, 4), dtype=float32_ref)\n",
      "Tensor(\"output/kernel:0\", shape=(4, 1), dtype=float32_ref)\n"
     ]
    }
   ],
   "source": [
    "# debugging code to check shape of kernels\n",
    "dg = tf.get_default_graph()\n",
    "alltens = [n.name for n in tf.get_default_graph().as_graph_def().node]\n",
    "print(dg.get_tensor_by_name('hidden0/kernel:0'))\n",
    "print(dg.get_tensor_by_name('hidden1/kernel:0'))\n",
    "print(dg.get_tensor_by_name('output/kernel:0'))"
   ]
  },
  {
   "cell_type": "code",
   "execution_count": 10,
   "metadata": {},
   "outputs": [],
   "source": [
    "# need a few pieces here\n",
    "# get (q,p) time series data as input\n",
    "\n",
    "# compute -\\grad V(q)\n",
    "# compute loss function \\| \\dot{p} + \\grad V(q) \\|^2\n",
    "\n"
   ]
  }
 ],
 "metadata": {
  "kernelspec": {
   "display_name": "Python 3",
   "language": "python",
   "name": "python3"
  },
  "language_info": {
   "codemirror_mode": {
    "name": "ipython",
    "version": 3
   },
   "file_extension": ".py",
   "mimetype": "text/x-python",
   "name": "python",
   "nbconvert_exporter": "python",
   "pygments_lexer": "ipython3",
   "version": "3.7.3"
  }
 },
 "nbformat": 4,
 "nbformat_minor": 2
}
